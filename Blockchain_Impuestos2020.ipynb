{
  "nbformat": 4,
  "nbformat_minor": 0,
  "metadata": {
    "colab": {
      "provenance": [],
      "authorship_tag": "ABX9TyOtVcNHbB9Hi4GJ5yKHet5r",
      "include_colab_link": true
    },
    "kernelspec": {
      "name": "python3",
      "display_name": "Python 3"
    },
    "language_info": {
      "name": "python"
    }
  },
  "cells": [
    {
      "cell_type": "markdown",
      "metadata": {
        "id": "view-in-github",
        "colab_type": "text"
      },
      "source": [
        "<a href=\"https://colab.research.google.com/github/ultimatexlerion/Blockchain_Col/blob/main/Blockchain_Impuestos2020.ipynb\" target=\"_parent\"><img src=\"https://colab.research.google.com/assets/colab-badge.svg\" alt=\"Open In Colab\"/></a>"
      ]
    },
    {
      "cell_type": "code",
      "source": [
        "# prompt: input y Conexion para ingresar datos blockchain\n",
        "\n",
        "# You'll need to install the web3 library if you don't have it already\n",
        "!pip install web3\n",
        "\n",
        "from web3 import Web3\n",
        "import google.colab\n",
        "# Replace with your Infura project ID or other blockchain node provider URL\n",
        "infura_url = \"https://mainnet.infura.io/v3/383937072a1b4891b67f16d36a3a99b3\""
      ],
      "metadata": {
        "colab": {
          "base_uri": "https://localhost:8080/"
        },
        "id": "-wxhbewrTTX1",
        "outputId": "408e358b-ba93-4bd6-995a-3359f87f6e01"
      },
      "execution_count": 1,
      "outputs": [
        {
          "output_type": "stream",
          "name": "stdout",
          "text": [
            "Collecting web3\n",
            "  Downloading web3-7.3.0-py3-none-any.whl.metadata (5.3 kB)\n",
            "Collecting eth-abi>=5.0.1 (from web3)\n",
            "  Downloading eth_abi-5.1.0-py3-none-any.whl.metadata (5.1 kB)\n",
            "Collecting eth-account>=0.13.1 (from web3)\n",
            "  Downloading eth_account-0.13.4-py3-none-any.whl.metadata (5.3 kB)\n",
            "Collecting eth-hash>=0.5.1 (from eth-hash[pycryptodome]>=0.5.1->web3)\n",
            "  Downloading eth_hash-0.7.0-py3-none-any.whl.metadata (5.4 kB)\n",
            "Collecting eth-typing>=5.0.0 (from web3)\n",
            "  Downloading eth_typing-5.0.0-py3-none-any.whl.metadata (5.1 kB)\n",
            "Collecting eth-utils>=5.0.0 (from web3)\n",
            "  Downloading eth_utils-5.0.0-py3-none-any.whl.metadata (5.4 kB)\n",
            "Collecting hexbytes>=1.2.0 (from web3)\n",
            "  Downloading hexbytes-1.2.1-py3-none-any.whl.metadata (3.7 kB)\n",
            "Requirement already satisfied: aiohttp>=3.7.4.post0 in /usr/local/lib/python3.10/dist-packages (from web3) (3.10.8)\n",
            "Requirement already satisfied: pydantic>=2.4.0 in /usr/local/lib/python3.10/dist-packages (from web3) (2.9.2)\n",
            "Requirement already satisfied: requests>=2.23.0 in /usr/local/lib/python3.10/dist-packages (from web3) (2.32.3)\n",
            "Requirement already satisfied: typing-extensions>=4.0.1 in /usr/local/lib/python3.10/dist-packages (from web3) (4.12.2)\n",
            "Collecting types-requests>=2.0.0 (from web3)\n",
            "  Downloading types_requests-2.32.0.20240914-py3-none-any.whl.metadata (1.9 kB)\n",
            "Collecting websockets>=10.0.0 (from web3)\n",
            "  Downloading websockets-13.1-cp310-cp310-manylinux_2_5_x86_64.manylinux1_x86_64.manylinux_2_17_x86_64.manylinux2014_x86_64.whl.metadata (6.8 kB)\n",
            "Collecting pyunormalize>=15.0.0 (from web3)\n",
            "  Downloading pyunormalize-16.0.0-py3-none-any.whl.metadata (4.0 kB)\n",
            "Requirement already satisfied: aiohappyeyeballs>=2.3.0 in /usr/local/lib/python3.10/dist-packages (from aiohttp>=3.7.4.post0->web3) (2.4.3)\n",
            "Requirement already satisfied: aiosignal>=1.1.2 in /usr/local/lib/python3.10/dist-packages (from aiohttp>=3.7.4.post0->web3) (1.3.1)\n",
            "Requirement already satisfied: attrs>=17.3.0 in /usr/local/lib/python3.10/dist-packages (from aiohttp>=3.7.4.post0->web3) (24.2.0)\n",
            "Requirement already satisfied: frozenlist>=1.1.1 in /usr/local/lib/python3.10/dist-packages (from aiohttp>=3.7.4.post0->web3) (1.4.1)\n",
            "Requirement already satisfied: multidict<7.0,>=4.5 in /usr/local/lib/python3.10/dist-packages (from aiohttp>=3.7.4.post0->web3) (6.1.0)\n",
            "Requirement already satisfied: yarl<2.0,>=1.12.0 in /usr/local/lib/python3.10/dist-packages (from aiohttp>=3.7.4.post0->web3) (1.13.1)\n",
            "Requirement already satisfied: async-timeout<5.0,>=4.0 in /usr/local/lib/python3.10/dist-packages (from aiohttp>=3.7.4.post0->web3) (4.0.3)\n",
            "Collecting parsimonious<0.11.0,>=0.10.0 (from eth-abi>=5.0.1->web3)\n",
            "  Downloading parsimonious-0.10.0-py3-none-any.whl.metadata (25 kB)\n",
            "Collecting bitarray>=2.4.0 (from eth-account>=0.13.1->web3)\n",
            "  Downloading bitarray-2.9.2-cp310-cp310-manylinux_2_17_x86_64.manylinux2014_x86_64.whl.metadata (34 kB)\n",
            "Collecting eth-keyfile<0.9.0,>=0.7.0 (from eth-account>=0.13.1->web3)\n",
            "  Downloading eth_keyfile-0.8.1-py3-none-any.whl.metadata (8.5 kB)\n",
            "Collecting eth-keys>=0.4.0 (from eth-account>=0.13.1->web3)\n",
            "  Downloading eth_keys-0.5.1-py3-none-any.whl.metadata (13 kB)\n",
            "Collecting eth-rlp>=2.1.0 (from eth-account>=0.13.1->web3)\n",
            "  Downloading eth_rlp-2.1.0-py3-none-any.whl.metadata (4.6 kB)\n",
            "Collecting rlp>=1.0.0 (from eth-account>=0.13.1->web3)\n",
            "  Downloading rlp-4.0.1-py3-none-any.whl.metadata (4.6 kB)\n",
            "Collecting ckzg>=2.0.0 (from eth-account>=0.13.1->web3)\n",
            "  Downloading ckzg-2.0.1-cp310-cp310-manylinux_2_17_x86_64.manylinux2014_x86_64.whl.metadata (683 bytes)\n",
            "Collecting pycryptodome<4,>=3.6.6 (from eth-hash[pycryptodome]>=0.5.1->web3)\n",
            "  Downloading pycryptodome-3.21.0-cp36-abi3-manylinux_2_17_x86_64.manylinux2014_x86_64.whl.metadata (3.4 kB)\n",
            "Collecting cytoolz>=0.10.1 (from eth-utils>=5.0.0->web3)\n",
            "  Downloading cytoolz-0.12.3-cp310-cp310-manylinux_2_17_x86_64.manylinux2014_x86_64.whl.metadata (4.6 kB)\n",
            "Requirement already satisfied: annotated-types>=0.6.0 in /usr/local/lib/python3.10/dist-packages (from pydantic>=2.4.0->web3) (0.7.0)\n",
            "Requirement already satisfied: pydantic-core==2.23.4 in /usr/local/lib/python3.10/dist-packages (from pydantic>=2.4.0->web3) (2.23.4)\n",
            "Requirement already satisfied: charset-normalizer<4,>=2 in /usr/local/lib/python3.10/dist-packages (from requests>=2.23.0->web3) (3.3.2)\n",
            "Requirement already satisfied: idna<4,>=2.5 in /usr/local/lib/python3.10/dist-packages (from requests>=2.23.0->web3) (3.10)\n",
            "Requirement already satisfied: urllib3<3,>=1.21.1 in /usr/local/lib/python3.10/dist-packages (from requests>=2.23.0->web3) (2.2.3)\n",
            "Requirement already satisfied: certifi>=2017.4.17 in /usr/local/lib/python3.10/dist-packages (from requests>=2.23.0->web3) (2024.8.30)\n",
            "Requirement already satisfied: toolz>=0.8.0 in /usr/local/lib/python3.10/dist-packages (from cytoolz>=0.10.1->eth-utils>=5.0.0->web3) (0.12.1)\n",
            "Requirement already satisfied: regex>=2022.3.15 in /usr/local/lib/python3.10/dist-packages (from parsimonious<0.11.0,>=0.10.0->eth-abi>=5.0.1->web3) (2024.9.11)\n",
            "Downloading web3-7.3.0-py3-none-any.whl (1.3 MB)\n",
            "\u001b[2K   \u001b[90m━━━━━━━━━━━━━━━━━━━━━━━━━━━━━━━━━━━━━━━━\u001b[0m \u001b[32m1.3/1.3 MB\u001b[0m \u001b[31m20.8 MB/s\u001b[0m eta \u001b[36m0:00:00\u001b[0m\n",
            "\u001b[?25hDownloading eth_abi-5.1.0-py3-none-any.whl (29 kB)\n",
            "Downloading eth_account-0.13.4-py3-none-any.whl (581 kB)\n",
            "\u001b[2K   \u001b[90m━━━━━━━━━━━━━━━━━━━━━━━━━━━━━━━━━━━━━━━━\u001b[0m \u001b[32m581.4/581.4 kB\u001b[0m \u001b[31m25.8 MB/s\u001b[0m eta \u001b[36m0:00:00\u001b[0m\n",
            "\u001b[?25hDownloading eth_hash-0.7.0-py3-none-any.whl (8.7 kB)\n",
            "Downloading eth_typing-5.0.0-py3-none-any.whl (20 kB)\n",
            "Downloading eth_utils-5.0.0-py3-none-any.whl (100 kB)\n",
            "\u001b[2K   \u001b[90m━━━━━━━━━━━━━━━━━━━━━━━━━━━━━━━━━━━━━━━━\u001b[0m \u001b[32m100.5/100.5 kB\u001b[0m \u001b[31m3.8 MB/s\u001b[0m eta \u001b[36m0:00:00\u001b[0m\n",
            "\u001b[?25hDownloading hexbytes-1.2.1-py3-none-any.whl (5.2 kB)\n",
            "Downloading pyunormalize-16.0.0-py3-none-any.whl (49 kB)\n",
            "\u001b[2K   \u001b[90m━━━━━━━━━━━━━━━━━━━━━━━━━━━━━━━━━━━━━━━━\u001b[0m \u001b[32m49.2/49.2 kB\u001b[0m \u001b[31m2.7 MB/s\u001b[0m eta \u001b[36m0:00:00\u001b[0m\n",
            "\u001b[?25hDownloading types_requests-2.32.0.20240914-py3-none-any.whl (15 kB)\n",
            "Downloading websockets-13.1-cp310-cp310-manylinux_2_5_x86_64.manylinux1_x86_64.manylinux_2_17_x86_64.manylinux2014_x86_64.whl (164 kB)\n",
            "\u001b[2K   \u001b[90m━━━━━━━━━━━━━━━━━━━━━━━━━━━━━━━━━━━━━━━━\u001b[0m \u001b[32m164.1/164.1 kB\u001b[0m \u001b[31m10.3 MB/s\u001b[0m eta \u001b[36m0:00:00\u001b[0m\n",
            "\u001b[?25hDownloading bitarray-2.9.2-cp310-cp310-manylinux_2_17_x86_64.manylinux2014_x86_64.whl (288 kB)\n",
            "\u001b[2K   \u001b[90m━━━━━━━━━━━━━━━━━━━━━━━━━━━━━━━━━━━━━━━━\u001b[0m \u001b[32m288.3/288.3 kB\u001b[0m \u001b[31m16.7 MB/s\u001b[0m eta \u001b[36m0:00:00\u001b[0m\n",
            "\u001b[?25hDownloading ckzg-2.0.1-cp310-cp310-manylinux_2_17_x86_64.manylinux2014_x86_64.whl (168 kB)\n",
            "\u001b[2K   \u001b[90m━━━━━━━━━━━━━━━━━━━━━━━━━━━━━━━━━━━━━━━━\u001b[0m \u001b[32m168.9/168.9 kB\u001b[0m \u001b[31m8.9 MB/s\u001b[0m eta \u001b[36m0:00:00\u001b[0m\n",
            "\u001b[?25hDownloading cytoolz-0.12.3-cp310-cp310-manylinux_2_17_x86_64.manylinux2014_x86_64.whl (2.0 MB)\n",
            "\u001b[2K   \u001b[90m━━━━━━━━━━━━━━━━━━━━━━━━━━━━━━━━━━━━━━━━\u001b[0m \u001b[32m2.0/2.0 MB\u001b[0m \u001b[31m49.8 MB/s\u001b[0m eta \u001b[36m0:00:00\u001b[0m\n",
            "\u001b[?25hDownloading eth_keyfile-0.8.1-py3-none-any.whl (7.5 kB)\n",
            "Downloading eth_keys-0.5.1-py3-none-any.whl (21 kB)\n",
            "Downloading eth_rlp-2.1.0-py3-none-any.whl (5.1 kB)\n",
            "Downloading parsimonious-0.10.0-py3-none-any.whl (48 kB)\n",
            "\u001b[2K   \u001b[90m━━━━━━━━━━━━━━━━━━━━━━━━━━━━━━━━━━━━━━━━\u001b[0m \u001b[32m48.4/48.4 kB\u001b[0m \u001b[31m2.9 MB/s\u001b[0m eta \u001b[36m0:00:00\u001b[0m\n",
            "\u001b[?25hDownloading pycryptodome-3.21.0-cp36-abi3-manylinux_2_17_x86_64.manylinux2014_x86_64.whl (2.3 MB)\n",
            "\u001b[2K   \u001b[90m━━━━━━━━━━━━━━━━━━━━━━━━━━━━━━━━━━━━━━━━\u001b[0m \u001b[32m2.3/2.3 MB\u001b[0m \u001b[31m61.0 MB/s\u001b[0m eta \u001b[36m0:00:00\u001b[0m\n",
            "\u001b[?25hDownloading rlp-4.0.1-py3-none-any.whl (20 kB)\n",
            "Installing collected packages: ckzg, bitarray, websockets, types-requests, pyunormalize, pycryptodome, parsimonious, hexbytes, eth-typing, eth-hash, cytoolz, eth-utils, rlp, eth-keys, eth-abi, eth-rlp, eth-keyfile, eth-account, web3\n",
            "Successfully installed bitarray-2.9.2 ckzg-2.0.1 cytoolz-0.12.3 eth-abi-5.1.0 eth-account-0.13.4 eth-hash-0.7.0 eth-keyfile-0.8.1 eth-keys-0.5.1 eth-rlp-2.1.0 eth-typing-5.0.0 eth-utils-5.0.0 hexbytes-1.2.1 parsimonious-0.10.0 pycryptodome-3.21.0 pyunormalize-16.0.0 rlp-4.0.1 types-requests-2.32.0.20240914 web3-7.3.0 websockets-13.1\n"
          ]
        }
      ]
    },
    {
      "cell_type": "code",
      "source": [
        "infura_url"
      ],
      "metadata": {
        "colab": {
          "base_uri": "https://localhost:8080/",
          "height": 36
        },
        "id": "1nHIgeh2TXKu",
        "outputId": "4ba39dbc-fc0a-44fe-c551-9daa21edee9b"
      },
      "execution_count": 2,
      "outputs": [
        {
          "output_type": "execute_result",
          "data": {
            "text/plain": [
              "'https://mainnet.infura.io/v3/383937072a1b4891b67f16d36a3a99b3'"
            ],
            "application/vnd.google.colaboratory.intrinsic+json": {
              "type": "string"
            }
          },
          "metadata": {},
          "execution_count": 2
        }
      ]
    },
    {
      "cell_type": "code",
      "source": [
        "# Initialize Web3 with the provider\n",
        "w3 = Web3(Web3.HTTPProvider(infura_url))\n",
        "\n",
        "# Check if connected to the blockchain\n",
        "if w3.is_connected():\n",
        "  print(\"Connected to blockchain!\")\n",
        "else:\n",
        "  print(\"Failed to connect to blockchain.\")\n",
        "\n",
        "\n",
        "# Example: Get the latest block number\n",
        "block_number = w3.eth.block_number\n",
        "print(f\"Latest block number: {block_number}\")\n",
        "\n",
        "# Note: You'll need to replace this with your actual data input and interaction logic.\n",
        "# This is just a basic example to get you started with connecting to the blockchain.\n",
        "\n"
      ],
      "metadata": {
        "colab": {
          "base_uri": "https://localhost:8080/"
        },
        "id": "N5VKjmUiZa7e",
        "outputId": "2f6d7773-48e6-4334-a6f5-6b5f4cf96aeb"
      },
      "execution_count": 3,
      "outputs": [
        {
          "output_type": "stream",
          "name": "stdout",
          "text": [
            "Connected to blockchain!\n",
            "Latest block number: 20889015\n"
          ]
        }
      ]
    },
    {
      "cell_type": "code",
      "source": [
        "# prompt: boton en html para web3 e imprimir el resultado\n",
        "\n",
        "from IPython.display import HTML, JSON\n",
        "from google.colab import output\n",
        "\n",
        "\n",
        "html_code = \"\"\"\n",
        "<html>\n",
        "<head>\n",
        "<title>Web3 Example</title>\n",
        "</head>\n",
        "<body>\n",
        "  <h1>Web3 Interaction</h1>\n",
        "  <button id=\"getBlockNumberButton\">Get Latest Block Number</button>\n",
        "  <p id=\"result\"></p>\n",
        "\n",
        "  <script>\n",
        "    const button = document.getElementById('getBlockNumberButton');\n",
        "    const resultElement = document.getElementById('result');\n",
        "\n",
        "    button.addEventListener('click', async () => {\n",
        "      try {\n",
        "        const response = await google.colab.kernel.invokeFunction('getBlockNumber', [], {});\n",
        "        const blockNumber = response.data['application/json'].blockNumber;\n",
        "        resultElement.textContent = `Latest block number: ${blockNumber}`;\n",
        "      } catch (error) {\n",
        "        console.error('Error:', error);\n",
        "        resultElement.textContent = 'Error getting block number.';\n",
        "      }\n",
        "    });\n",
        "  </script>\n",
        "</body>\n",
        "</html>\n",
        "\"\"\"\n",
        "\n",
        "display(HTML(html_code))\n",
        "\n",
        "\n",
        "def getBlockNumber():\n",
        "  \"\"\"\n",
        "  This function retrieves the latest block number and returns it as JSON.\n",
        "  \"\"\"\n",
        "  block_number = w3.eth.block_number\n",
        "  return JSON({'blockNumber': block_number}) # Use JSON instead of IPython.display.JSON\n",
        "\n",
        "output.register_callback('getBlockNumber', getBlockNumber)\n",
        "\n"
      ],
      "metadata": {
        "id": "TyN7TTw7T06X",
        "colab": {
          "base_uri": "https://localhost:8080/",
          "height": 101
        },
        "outputId": "0f9b32d0-acd0-4133-e07e-b20a14cbacc4"
      },
      "execution_count": 4,
      "outputs": [
        {
          "output_type": "display_data",
          "data": {
            "text/plain": [
              "<IPython.core.display.HTML object>"
            ],
            "text/html": [
              "\n",
              "<html>\n",
              "<head>\n",
              "<title>Web3 Example</title>\n",
              "</head>\n",
              "<body>\n",
              "  <h1>Web3 Interaction</h1>\n",
              "  <button id=\"getBlockNumberButton\">Get Latest Block Number</button>\n",
              "  <p id=\"result\"></p>\n",
              "\n",
              "  <script>\n",
              "    const button = document.getElementById('getBlockNumberButton');\n",
              "    const resultElement = document.getElementById('result');\n",
              "\n",
              "    button.addEventListener('click', async () => {\n",
              "      try {\n",
              "        const response = await google.colab.kernel.invokeFunction('getBlockNumber', [], {});\n",
              "        const blockNumber = response.data['application/json'].blockNumber;\n",
              "        resultElement.textContent = `Latest block number: ${blockNumber}`;\n",
              "      } catch (error) {\n",
              "        console.error('Error:', error);\n",
              "        resultElement.textContent = 'Error getting block number.';\n",
              "      }\n",
              "    });\n",
              "  </script>\n",
              "</body>\n",
              "</html>\n"
            ]
          },
          "metadata": {}
        }
      ]
    },
    {
      "cell_type": "code",
      "source": [
        "# prompt: subir datos a ese bloque (impuesto: (str),  ver cantidad(print bloque))\n",
        "\n",
        "def upload_data_to_blockchain(tax_data):\n",
        "  \"\"\"\n",
        "  This function simulates uploading tax data to the blockchain.\n",
        "  \"\"\"\n",
        "  # In a real-world scenario, you'd use a smart contract and appropriate transactions.\n",
        "  print(f\"Simulating uploading tax data: {tax_data} to the blockchain.\")\n",
        "  block_number = w3.eth.block_number\n",
        "  print(f\"Current block number: {block_number}\")\n",
        "\n",
        "  # For demonstration, let's assume the data is stored in a way that can be retrieved\n",
        "  # based on the current block number.\n",
        "  # In a real smart contract, you would store it securely.\n",
        "\n",
        "\n",
        "  # ... (Code to interact with your smart contract or blockchain data storage)\n",
        "\n",
        "  return block_number\n",
        "\n",
        "\n",
        "# Example usage\n",
        "tax_data = \"Example tax data\"\n",
        "block_number = upload_data_to_blockchain(tax_data)\n",
        "print(f\"Data uploaded to block number: {block_number}\")\n",
        "\n",
        "\n",
        "# You might want to create a way to retrieve the stored data later:\n",
        "\n",
        "def get_data_from_block(block_number):\n",
        "  \"\"\"\n",
        "  This function simulates getting tax data from the blockchain using the block number.\n",
        "  \"\"\"\n",
        "  # In a real-world scenario, you would interact with your smart contract or data storage\n",
        "  # mechanism to retrieve the specific data associated with the block number.\n",
        "  print(f\"Simulating retrieving data from block number: {block_number}\")\n",
        "  # ... (Code to fetch data based on the block number)\n",
        "  return \"Example retrieved data\" # Replace with the actual data retrieved from the block.\n",
        "\n",
        "# Example usage of the get_data_from_block function:\n",
        "retrieved_data = get_data_from_block(block_number)\n",
        "print(f\"Retrieved data: {retrieved_data}\")\n",
        "\n"
      ],
      "metadata": {
        "colab": {
          "base_uri": "https://localhost:8080/"
        },
        "id": "yTe02N7lGRQL",
        "outputId": "eaec1246-0bd9-461b-ca81-5512c8c8996d"
      },
      "execution_count": 5,
      "outputs": [
        {
          "output_type": "stream",
          "name": "stdout",
          "text": [
            "Simulating uploading tax data: Example tax data to the blockchain.\n",
            "Current block number: 20889015\n",
            "Data uploaded to block number: 20889015\n",
            "Simulating retrieving data from block number: 20889015\n",
            "Retrieved data: Example retrieved data\n"
          ]
        }
      ]
    },
    {
      "cell_type": "code",
      "source": [
        "# prompt: mostrar el dia y el tiempo que fue subido\n",
        "\n",
        "import datetime\n",
        "\n",
        "def upload_data_to_blockchain(tax_data):\n",
        "  \"\"\"\n",
        "  This function simulates uploading tax data to the blockchain and includes timestamp.\n",
        "  \"\"\"\n",
        "  # In a real-world scenario, you'd use a smart contract and appropriate transactions.\n",
        "  print(f\"Simulating uploading tax data: {tax_data} to the blockchain.\")\n",
        "  block_number = w3.eth.block_number\n",
        "  print(f\"Current block number: {block_number}\")\n",
        "  current_datetime = datetime.datetime.now()\n",
        "  print(f\"Data uploaded at: {current_datetime}\")\n",
        "\n",
        "  # For demonstration, let's assume the data is stored in a way that can be retrieved\n",
        "  # based on the current block number.\n",
        "  # In a real smart contract, you would store it securely.\n",
        "\n",
        "\n",
        "  # ... (Code to interact with your smart contract or blockchain data storage)\n",
        "\n",
        "  return block_number, current_datetime\n",
        "\n",
        "\n",
        "# Example usage\n",
        "tax_data = \"Example tax data\"\n",
        "block_number, upload_datetime = upload_data_to_blockchain(tax_data)\n",
        "print(f\"Data uploaded to block number: {block_number}\")\n",
        "print(f\"Data uploaded at: {upload_datetime}\")\n"
      ],
      "metadata": {
        "colab": {
          "base_uri": "https://localhost:8080/"
        },
        "id": "gySgsI_n4qFj",
        "outputId": "64aea0c5-a1fd-4079-a553-50a495e8c957"
      },
      "execution_count": 6,
      "outputs": [
        {
          "output_type": "stream",
          "name": "stdout",
          "text": [
            "Simulating uploading tax data: Example tax data to the blockchain.\n",
            "Current block number: 20889015\n",
            "Data uploaded at: 2024-10-04 01:58:22.207207\n",
            "Data uploaded to block number: 20889015\n",
            "Data uploaded at: 2024-10-04 01:58:22.207207\n"
          ]
        }
      ]
    },
    {
      "cell_type": "code",
      "source": [
        "# prompt: ingresar datos a ese bloque\n",
        "\n",
        "def add_data_to_block(block_number, new_data):\n",
        "  \"\"\"\n",
        "  This function simulates adding data to an existing block on the blockchain.\n",
        "\n",
        "  Args:\n",
        "    block_number: The block number where you want to add data.\n",
        "    new_data: The new data you want to append to the block.\n",
        "  \"\"\"\n",
        "  print(f\"Simulating adding data to block number: {block_number}\")\n",
        "  # In a real-world scenario, you'd interact with your smart contract or\n",
        "  # data storage mechanism to append data to the existing block.\n",
        "\n",
        "  # For this example, we'll just print a message to simulate adding data.\n",
        "  print(f\"New data '{new_data}' added to block number {block_number}.\")\n",
        "\n",
        "# Example usage:\n",
        "new_data_to_add = \"Additional tax information\"\n",
        "add_data_to_block(block_number, new_data_to_add)\n"
      ],
      "metadata": {
        "colab": {
          "base_uri": "https://localhost:8080/"
        },
        "id": "Mzi6vYTT5Yz0",
        "outputId": "4d05a05b-d454-4fee-da4a-1aa12d9fddd0"
      },
      "execution_count": 7,
      "outputs": [
        {
          "output_type": "stream",
          "name": "stdout",
          "text": [
            "Simulating adding data to block number: 20889015\n",
            "New data 'Additional tax information' added to block number 20889015.\n"
          ]
        }
      ]
    },
    {
      "cell_type": "code",
      "source": [
        "# prompt: ver informacion del bloque actualizado y el anterior\n",
        "\n",
        "def get_block_info(block_number):\n",
        "  \"\"\"\n",
        "  Retrieves information about a specific block on the blockchain.\n",
        "\n",
        "  Args:\n",
        "    block_number: The block number to retrieve information for.\n",
        "\n",
        "  Returns:\n",
        "    A dictionary containing block information (if available).\n",
        "  \"\"\"\n",
        "  try:\n",
        "    block = w3.eth.get_block(block_number)\n",
        "    if block:\n",
        "      return {\n",
        "          'block_number': block['number'],\n",
        "          'timestamp': block['timestamp'],\n",
        "          'hash': block['hash'].hex(),\n",
        "          # Add other relevant information as needed\n",
        "      }\n",
        "    else:\n",
        "      return None\n",
        "  except Exception as e:\n",
        "    print(f\"Error getting block info: {e}\")\n",
        "    return None\n",
        "\n",
        "# Get information about the updated block\n",
        "updated_block_info = get_block_info(block_number)\n",
        "if updated_block_info:\n",
        "  print(f\"Updated block information:\\n{updated_block_info}\")\n",
        "\n",
        "# Get information about the previous block\n",
        "previous_block_number = block_number - 1\n",
        "previous_block_info = get_block_info(previous_block_number)\n",
        "if previous_block_info:\n",
        "  print(f\"Previous block information:\\n{previous_block_info}\")\n"
      ],
      "metadata": {
        "colab": {
          "base_uri": "https://localhost:8080/"
        },
        "id": "BL3baX3G5m8L",
        "outputId": "90fa27a5-0864-4e5d-e27b-90831a0f6242"
      },
      "execution_count": 8,
      "outputs": [
        {
          "output_type": "stream",
          "name": "stdout",
          "text": [
            "Updated block information:\n",
            "{'block_number': 20889015, 'timestamp': 1728007091, 'hash': '8b4a7722e744a45d48c43d86d1bace18519a91d9aabc5bb2661136f99490db68'}\n",
            "Previous block information:\n",
            "{'block_number': 20889014, 'timestamp': 1728007079, 'hash': '992d241c9027aaa8b286704c8ef33c11b38994afbfe072683831a75db93040ac'}\n"
          ]
        }
      ]
    },
    {
      "cell_type": "code",
      "source": [
        "# prompt: convertir date a timestamp\n",
        "\n",
        "import datetime\n",
        "import time\n",
        "\n",
        "def convert_date_to_timestamp(date_string):\n",
        "  \"\"\"\n",
        "  Converts a date string to a Unix timestamp.\n",
        "\n",
        "  Args:\n",
        "    date_string: The date string in the format 'YYYY-MM-DD HH:MM:SS'.\n",
        "\n",
        "  Returns:\n",
        "    The Unix timestamp representing the date.\n",
        "  \"\"\"\n",
        "  try:\n",
        "    date_object = datetime.datetime.strptime(date_string, '%Y-%m-%d %H:%M:%S')\n",
        "    timestamp = time.mktime(date_object.timetuple())\n",
        "    return timestamp\n",
        "  except ValueError:\n",
        "    print(\"Invalid date format. Please use 'YYYY-MM-DD HH:MM:SS'.\")\n",
        "    return None\n",
        "\n",
        "# Example usage:\n",
        "date_string = '2023-11-20 10:00:00'\n",
        "timestamp = convert_date_to_timestamp(date_string)\n",
        "\n",
        "if timestamp:\n",
        "  print(f\"Timestamp for {date_string}: {timestamp}\")\n"
      ],
      "metadata": {
        "colab": {
          "base_uri": "https://localhost:8080/"
        },
        "id": "zRrtYkr35u4x",
        "outputId": "5d0386ef-2d57-4705-ee9a-420c017a5423"
      },
      "execution_count": 9,
      "outputs": [
        {
          "output_type": "stream",
          "name": "stdout",
          "text": [
            "Timestamp for 2023-11-20 10:00:00: 1700474400.0\n"
          ]
        }
      ]
    },
    {
      "cell_type": "code",
      "source": [
        "# prompt: agregar geolocalizacion a los datos\n",
        "\n",
        "def upload_data_to_blockchain(tax_data, latitude, longitude):\n",
        "  \"\"\"\n",
        "  This function simulates uploading tax data to the blockchain and includes geolocation.\n",
        "  \"\"\"\n",
        "  # In a real-world scenario, you'd use a smart contract and appropriate transactions.\n",
        "  print(f\"Simulating uploading tax data: {tax_data} to the blockchain.\")\n",
        "  block_number = w3.eth.block_number\n",
        "  print(f\"Current block number: {block_number}\")\n",
        "  current_datetime = datetime.datetime.now()\n",
        "  print(f\"Data uploaded at: {current_datetime}\")\n",
        "  print(f\"Latitude: {latitude}, Longitude: {longitude}\")\n",
        "\n",
        "  # For demonstration, let's assume the data is stored in a way that can be retrieved\n",
        "  # based on the current block number.\n",
        "  # In a real smart contract, you would store it securely.\n",
        "\n",
        "\n",
        "  # ... (Code to interact with your smart contract or blockchain data storage)\n",
        "\n",
        "  return block_number, current_datetime\n",
        "\n",
        "\n",
        "# Example usage with geolocation\n",
        "tax_data = \"Example tax data\"\n",
        "latitude = 37.7749\n",
        "longitude = -122.4194\n",
        "block_number, upload_datetime = upload_data_to_blockchain(tax_data, latitude, longitude)\n",
        "print(f\"Data uploaded to block number: {block_number}\")\n",
        "print(f\"Data uploaded at: {upload_datetime}\")\n"
      ],
      "metadata": {
        "colab": {
          "base_uri": "https://localhost:8080/"
        },
        "id": "8l6WdaY453b8",
        "outputId": "3169c9c0-8a8b-4253-8553-c32412892fda"
      },
      "execution_count": 10,
      "outputs": [
        {
          "output_type": "stream",
          "name": "stdout",
          "text": [
            "Simulating uploading tax data: Example tax data to the blockchain.\n",
            "Current block number: 20889015\n",
            "Data uploaded at: 2024-10-04 01:58:22.503204\n",
            "Latitude: 37.7749, Longitude: -122.4194\n",
            "Data uploaded to block number: 20889015\n",
            "Data uploaded at: 2024-10-04 01:58:22.503204\n"
          ]
        }
      ]
    },
    {
      "cell_type": "code",
      "source": [
        "# prompt: ubicar en un mapa los datos en la ubicacion nueva y la ubicacion del dato anterior\n",
        "\n",
        "import folium\n",
        "\n",
        "def plot_locations_on_map(latitude1, longitude1, latitude2, longitude2):\n",
        "  \"\"\"\n",
        "  Plots two locations on a map using Folium.\n",
        "\n",
        "  Args:\n",
        "    latitude1: Latitude of the first location.\n",
        "    longitude1: Longitude of the first location.\n",
        "    latitude2: Latitude of the second location.\n",
        "    longitude2: Longitude of the second location.\n",
        "  \"\"\"\n",
        "  # Create a map centered around the first location\n",
        "  map_center = [latitude1, longitude1]\n",
        "  map_obj = folium.Map(location=map_center, zoom_start=10)\n",
        "\n",
        "  # Add markers for both locations\n",
        "  folium.Marker([latitude1, longitude1], popup=\"Previous Location\").add_to(map_obj)\n",
        "  folium.Marker([latitude2, longitude2], popup=\"New Location\").add_to(map_obj)\n",
        "\n",
        "  return map_obj\n",
        "\n",
        "\n",
        "# Example usage:\n",
        "latitude_previous = 37.7749  # Replace with your actual previous latitude\n",
        "longitude_previous = -122.4194  # Replace with your actual previous longitude\n",
        "latitude_new = 34.0522  # Replace with your actual new latitude\n",
        "longitude_new = -118.2437  # Replace with your actual new longitude\n",
        "\n",
        "\n",
        "# Plot the locations on the map\n",
        "map_obj = plot_locations_on_map(latitude_previous, longitude_previous, latitude_new, longitude_new)\n",
        "\n",
        "# Display the map\n",
        "display(map_obj)\n"
      ],
      "metadata": {
        "colab": {
          "base_uri": "https://localhost:8080/",
          "height": 828
        },
        "id": "LyvqTxyV6CAB",
        "outputId": "4fa40278-ac83-49f0-9608-e5ca6c390037"
      },
      "execution_count": 11,
      "outputs": [
        {
          "output_type": "display_data",
          "data": {
            "text/plain": [
              "<folium.folium.Map at 0x7aec70d87940>"
            ],
            "text/html": [
              "<div style=\"width:100%;\"><div style=\"position:relative;width:100%;height:0;padding-bottom:60%;\"><span style=\"color:#565656\">Make this Notebook Trusted to load map: File -> Trust Notebook</span><iframe srcdoc=\"&lt;!DOCTYPE html&gt;\n",
              "&lt;html&gt;\n",
              "&lt;head&gt;\n",
              "    \n",
              "    &lt;meta http-equiv=&quot;content-type&quot; content=&quot;text/html; charset=UTF-8&quot; /&gt;\n",
              "    \n",
              "        &lt;script&gt;\n",
              "            L_NO_TOUCH = false;\n",
              "            L_DISABLE_3D = false;\n",
              "        &lt;/script&gt;\n",
              "    \n",
              "    &lt;style&gt;html, body {width: 100%;height: 100%;margin: 0;padding: 0;}&lt;/style&gt;\n",
              "    &lt;style&gt;#map {position:absolute;top:0;bottom:0;right:0;left:0;}&lt;/style&gt;\n",
              "    &lt;script src=&quot;https://cdn.jsdelivr.net/npm/leaflet@1.9.3/dist/leaflet.js&quot;&gt;&lt;/script&gt;\n",
              "    &lt;script src=&quot;https://code.jquery.com/jquery-3.7.1.min.js&quot;&gt;&lt;/script&gt;\n",
              "    &lt;script src=&quot;https://cdn.jsdelivr.net/npm/bootstrap@5.2.2/dist/js/bootstrap.bundle.min.js&quot;&gt;&lt;/script&gt;\n",
              "    &lt;script src=&quot;https://cdnjs.cloudflare.com/ajax/libs/Leaflet.awesome-markers/2.0.2/leaflet.awesome-markers.js&quot;&gt;&lt;/script&gt;\n",
              "    &lt;link rel=&quot;stylesheet&quot; href=&quot;https://cdn.jsdelivr.net/npm/leaflet@1.9.3/dist/leaflet.css&quot;/&gt;\n",
              "    &lt;link rel=&quot;stylesheet&quot; href=&quot;https://cdn.jsdelivr.net/npm/bootstrap@5.2.2/dist/css/bootstrap.min.css&quot;/&gt;\n",
              "    &lt;link rel=&quot;stylesheet&quot; href=&quot;https://netdna.bootstrapcdn.com/bootstrap/3.0.0/css/bootstrap-glyphicons.css&quot;/&gt;\n",
              "    &lt;link rel=&quot;stylesheet&quot; href=&quot;https://cdn.jsdelivr.net/npm/@fortawesome/fontawesome-free@6.2.0/css/all.min.css&quot;/&gt;\n",
              "    &lt;link rel=&quot;stylesheet&quot; href=&quot;https://cdnjs.cloudflare.com/ajax/libs/Leaflet.awesome-markers/2.0.2/leaflet.awesome-markers.css&quot;/&gt;\n",
              "    &lt;link rel=&quot;stylesheet&quot; href=&quot;https://cdn.jsdelivr.net/gh/python-visualization/folium/folium/templates/leaflet.awesome.rotate.min.css&quot;/&gt;\n",
              "    \n",
              "            &lt;meta name=&quot;viewport&quot; content=&quot;width=device-width,\n",
              "                initial-scale=1.0, maximum-scale=1.0, user-scalable=no&quot; /&gt;\n",
              "            &lt;style&gt;\n",
              "                #map_f8b78052afcefa75d525271e14949272 {\n",
              "                    position: relative;\n",
              "                    width: 100.0%;\n",
              "                    height: 100.0%;\n",
              "                    left: 0.0%;\n",
              "                    top: 0.0%;\n",
              "                }\n",
              "                .leaflet-container { font-size: 1rem; }\n",
              "            &lt;/style&gt;\n",
              "        \n",
              "&lt;/head&gt;\n",
              "&lt;body&gt;\n",
              "    \n",
              "    \n",
              "            &lt;div class=&quot;folium-map&quot; id=&quot;map_f8b78052afcefa75d525271e14949272&quot; &gt;&lt;/div&gt;\n",
              "        \n",
              "&lt;/body&gt;\n",
              "&lt;script&gt;\n",
              "    \n",
              "    \n",
              "            var map_f8b78052afcefa75d525271e14949272 = L.map(\n",
              "                &quot;map_f8b78052afcefa75d525271e14949272&quot;,\n",
              "                {\n",
              "                    center: [37.7749, -122.4194],\n",
              "                    crs: L.CRS.EPSG3857,\n",
              "                    zoom: 10,\n",
              "                    zoomControl: true,\n",
              "                    preferCanvas: false,\n",
              "                }\n",
              "            );\n",
              "\n",
              "            \n",
              "\n",
              "        \n",
              "    \n",
              "            var tile_layer_5fc588cba512026b6c1cab03b4cf255b = L.tileLayer(\n",
              "                &quot;https://tile.openstreetmap.org/{z}/{x}/{y}.png&quot;,\n",
              "                {&quot;attribution&quot;: &quot;\\u0026copy; \\u003ca href=\\&quot;https://www.openstreetmap.org/copyright\\&quot;\\u003eOpenStreetMap\\u003c/a\\u003e contributors&quot;, &quot;detectRetina&quot;: false, &quot;maxNativeZoom&quot;: 19, &quot;maxZoom&quot;: 19, &quot;minZoom&quot;: 0, &quot;noWrap&quot;: false, &quot;opacity&quot;: 1, &quot;subdomains&quot;: &quot;abc&quot;, &quot;tms&quot;: false}\n",
              "            );\n",
              "        \n",
              "    \n",
              "            tile_layer_5fc588cba512026b6c1cab03b4cf255b.addTo(map_f8b78052afcefa75d525271e14949272);\n",
              "        \n",
              "    \n",
              "            var marker_3f80e185c05f194c081a929c2c10b143 = L.marker(\n",
              "                [37.7749, -122.4194],\n",
              "                {}\n",
              "            ).addTo(map_f8b78052afcefa75d525271e14949272);\n",
              "        \n",
              "    \n",
              "        var popup_cab8de1cbaf93b731c7d3c519672f3ac = L.popup({&quot;maxWidth&quot;: &quot;100%&quot;});\n",
              "\n",
              "        \n",
              "            \n",
              "                var html_ab3711e6db9e2d6b8cf4faba9e35dfee = $(`&lt;div id=&quot;html_ab3711e6db9e2d6b8cf4faba9e35dfee&quot; style=&quot;width: 100.0%; height: 100.0%;&quot;&gt;Previous Location&lt;/div&gt;`)[0];\n",
              "                popup_cab8de1cbaf93b731c7d3c519672f3ac.setContent(html_ab3711e6db9e2d6b8cf4faba9e35dfee);\n",
              "            \n",
              "        \n",
              "\n",
              "        marker_3f80e185c05f194c081a929c2c10b143.bindPopup(popup_cab8de1cbaf93b731c7d3c519672f3ac)\n",
              "        ;\n",
              "\n",
              "        \n",
              "    \n",
              "    \n",
              "            var marker_4f710ce36836b1838f5f9441fb30526f = L.marker(\n",
              "                [34.0522, -118.2437],\n",
              "                {}\n",
              "            ).addTo(map_f8b78052afcefa75d525271e14949272);\n",
              "        \n",
              "    \n",
              "        var popup_8ae852072a22464f317f2ee03a46f95f = L.popup({&quot;maxWidth&quot;: &quot;100%&quot;});\n",
              "\n",
              "        \n",
              "            \n",
              "                var html_c195c189a9afbfd02657cb4b3ecc7df2 = $(`&lt;div id=&quot;html_c195c189a9afbfd02657cb4b3ecc7df2&quot; style=&quot;width: 100.0%; height: 100.0%;&quot;&gt;New Location&lt;/div&gt;`)[0];\n",
              "                popup_8ae852072a22464f317f2ee03a46f95f.setContent(html_c195c189a9afbfd02657cb4b3ecc7df2);\n",
              "            \n",
              "        \n",
              "\n",
              "        marker_4f710ce36836b1838f5f9441fb30526f.bindPopup(popup_8ae852072a22464f317f2ee03a46f95f)\n",
              "        ;\n",
              "\n",
              "        \n",
              "    \n",
              "&lt;/script&gt;\n",
              "&lt;/html&gt;\" style=\"position:absolute;width:100%;height:100%;left:0;top:0;border:none !important;\" allowfullscreen webkitallowfullscreen mozallowfullscreen></iframe></div></div>"
            ]
          },
          "metadata": {}
        }
      ]
    },
    {
      "cell_type": "code",
      "source": [
        "# prompt: agregar datos los pins los datos del bloque anterior y actual\n",
        "\n",
        "def plot_locations_on_map_with_block_data(latitude1, longitude1, latitude2, longitude2, previous_block_info, updated_block_info):\n",
        "  \"\"\"\n",
        "  Plots two locations on a map using Folium and displays block data as popups.\n",
        "\n",
        "  Args:\n",
        "    latitude1: Latitude of the first location.\n",
        "    longitude1: Longitude of the first location.\n",
        "    latitude2: Latitude of the second location.\n",
        "    longitude2: Longitude of the second location.\n",
        "    previous_block_info: Information about the previous block.\n",
        "    updated_block_info: Information about the updated block.\n",
        "  \"\"\"\n",
        "  # Create a map centered around the first location\n",
        "  map_center = [latitude1, longitude1]\n",
        "  map_obj = folium.Map(location=map_center, zoom_start=10)\n",
        "\n",
        "  # Add markers for both locations with block data as popups\n",
        "  if previous_block_info:\n",
        "    popup_text_previous = f\"Previous Location<br>Block Number: {previous_block_info['block_number']}<br>Timestamp: {previous_block_info['timestamp']}<br>Hash: {previous_block_info['hash']}\"\n",
        "    folium.Marker([latitude1, longitude1], popup=popup_text_previous).add_to(map_obj)\n",
        "\n",
        "  if updated_block_info:\n",
        "    popup_text_updated = f\"New Location<br>Block Number: {updated_block_info['block_number']}<br>Timestamp: {updated_block_info['timestamp']}<br>Hash: {updated_block_info['hash']}\"\n",
        "    folium.Marker([latitude2, longitude2], popup=popup_text_updated).add_to(map_obj)\n",
        "\n",
        "  return map_obj\n",
        "\n",
        "\n",
        "# Example usage:\n",
        "\n",
        "# ... (Your existing code to get latitude, longitude, previous_block_info, updated_block_info)\n",
        "\n",
        "\n",
        "# Plot the locations on the map with block data\n",
        "map_obj = plot_locations_on_map_with_block_data(latitude_previous, longitude_previous, latitude_new, longitude_new, previous_block_info, updated_block_info)\n",
        "\n",
        "# Display the map\n",
        "display(map_obj)\n"
      ],
      "metadata": {
        "colab": {
          "base_uri": "https://localhost:8080/",
          "height": 828
        },
        "id": "nW9ORC4R6HVj",
        "outputId": "c62696ba-ac6d-416d-dc5c-168da5aadcf2"
      },
      "execution_count": 12,
      "outputs": [
        {
          "output_type": "display_data",
          "data": {
            "text/plain": [
              "<folium.folium.Map at 0x7aec5d749f90>"
            ],
            "text/html": [
              "<div style=\"width:100%;\"><div style=\"position:relative;width:100%;height:0;padding-bottom:60%;\"><span style=\"color:#565656\">Make this Notebook Trusted to load map: File -> Trust Notebook</span><iframe srcdoc=\"&lt;!DOCTYPE html&gt;\n",
              "&lt;html&gt;\n",
              "&lt;head&gt;\n",
              "    \n",
              "    &lt;meta http-equiv=&quot;content-type&quot; content=&quot;text/html; charset=UTF-8&quot; /&gt;\n",
              "    \n",
              "        &lt;script&gt;\n",
              "            L_NO_TOUCH = false;\n",
              "            L_DISABLE_3D = false;\n",
              "        &lt;/script&gt;\n",
              "    \n",
              "    &lt;style&gt;html, body {width: 100%;height: 100%;margin: 0;padding: 0;}&lt;/style&gt;\n",
              "    &lt;style&gt;#map {position:absolute;top:0;bottom:0;right:0;left:0;}&lt;/style&gt;\n",
              "    &lt;script src=&quot;https://cdn.jsdelivr.net/npm/leaflet@1.9.3/dist/leaflet.js&quot;&gt;&lt;/script&gt;\n",
              "    &lt;script src=&quot;https://code.jquery.com/jquery-3.7.1.min.js&quot;&gt;&lt;/script&gt;\n",
              "    &lt;script src=&quot;https://cdn.jsdelivr.net/npm/bootstrap@5.2.2/dist/js/bootstrap.bundle.min.js&quot;&gt;&lt;/script&gt;\n",
              "    &lt;script src=&quot;https://cdnjs.cloudflare.com/ajax/libs/Leaflet.awesome-markers/2.0.2/leaflet.awesome-markers.js&quot;&gt;&lt;/script&gt;\n",
              "    &lt;link rel=&quot;stylesheet&quot; href=&quot;https://cdn.jsdelivr.net/npm/leaflet@1.9.3/dist/leaflet.css&quot;/&gt;\n",
              "    &lt;link rel=&quot;stylesheet&quot; href=&quot;https://cdn.jsdelivr.net/npm/bootstrap@5.2.2/dist/css/bootstrap.min.css&quot;/&gt;\n",
              "    &lt;link rel=&quot;stylesheet&quot; href=&quot;https://netdna.bootstrapcdn.com/bootstrap/3.0.0/css/bootstrap-glyphicons.css&quot;/&gt;\n",
              "    &lt;link rel=&quot;stylesheet&quot; href=&quot;https://cdn.jsdelivr.net/npm/@fortawesome/fontawesome-free@6.2.0/css/all.min.css&quot;/&gt;\n",
              "    &lt;link rel=&quot;stylesheet&quot; href=&quot;https://cdnjs.cloudflare.com/ajax/libs/Leaflet.awesome-markers/2.0.2/leaflet.awesome-markers.css&quot;/&gt;\n",
              "    &lt;link rel=&quot;stylesheet&quot; href=&quot;https://cdn.jsdelivr.net/gh/python-visualization/folium/folium/templates/leaflet.awesome.rotate.min.css&quot;/&gt;\n",
              "    \n",
              "            &lt;meta name=&quot;viewport&quot; content=&quot;width=device-width,\n",
              "                initial-scale=1.0, maximum-scale=1.0, user-scalable=no&quot; /&gt;\n",
              "            &lt;style&gt;\n",
              "                #map_df432528e992653c18b880a2b683e083 {\n",
              "                    position: relative;\n",
              "                    width: 100.0%;\n",
              "                    height: 100.0%;\n",
              "                    left: 0.0%;\n",
              "                    top: 0.0%;\n",
              "                }\n",
              "                .leaflet-container { font-size: 1rem; }\n",
              "            &lt;/style&gt;\n",
              "        \n",
              "&lt;/head&gt;\n",
              "&lt;body&gt;\n",
              "    \n",
              "    \n",
              "            &lt;div class=&quot;folium-map&quot; id=&quot;map_df432528e992653c18b880a2b683e083&quot; &gt;&lt;/div&gt;\n",
              "        \n",
              "&lt;/body&gt;\n",
              "&lt;script&gt;\n",
              "    \n",
              "    \n",
              "            var map_df432528e992653c18b880a2b683e083 = L.map(\n",
              "                &quot;map_df432528e992653c18b880a2b683e083&quot;,\n",
              "                {\n",
              "                    center: [37.7749, -122.4194],\n",
              "                    crs: L.CRS.EPSG3857,\n",
              "                    zoom: 10,\n",
              "                    zoomControl: true,\n",
              "                    preferCanvas: false,\n",
              "                }\n",
              "            );\n",
              "\n",
              "            \n",
              "\n",
              "        \n",
              "    \n",
              "            var tile_layer_13f599883133a04073d4555bb55317c9 = L.tileLayer(\n",
              "                &quot;https://tile.openstreetmap.org/{z}/{x}/{y}.png&quot;,\n",
              "                {&quot;attribution&quot;: &quot;\\u0026copy; \\u003ca href=\\&quot;https://www.openstreetmap.org/copyright\\&quot;\\u003eOpenStreetMap\\u003c/a\\u003e contributors&quot;, &quot;detectRetina&quot;: false, &quot;maxNativeZoom&quot;: 19, &quot;maxZoom&quot;: 19, &quot;minZoom&quot;: 0, &quot;noWrap&quot;: false, &quot;opacity&quot;: 1, &quot;subdomains&quot;: &quot;abc&quot;, &quot;tms&quot;: false}\n",
              "            );\n",
              "        \n",
              "    \n",
              "            tile_layer_13f599883133a04073d4555bb55317c9.addTo(map_df432528e992653c18b880a2b683e083);\n",
              "        \n",
              "    \n",
              "            var marker_fb9aee21bd5535cd961963141d40fb0c = L.marker(\n",
              "                [37.7749, -122.4194],\n",
              "                {}\n",
              "            ).addTo(map_df432528e992653c18b880a2b683e083);\n",
              "        \n",
              "    \n",
              "        var popup_8af377aac880eca0ae175b169536a174 = L.popup({&quot;maxWidth&quot;: &quot;100%&quot;});\n",
              "\n",
              "        \n",
              "            \n",
              "                var html_128e231e15f6228fd3345317c7b33230 = $(`&lt;div id=&quot;html_128e231e15f6228fd3345317c7b33230&quot; style=&quot;width: 100.0%; height: 100.0%;&quot;&gt;Previous Location&lt;br&gt;Block Number: 20889014&lt;br&gt;Timestamp: 1728007079&lt;br&gt;Hash: 992d241c9027aaa8b286704c8ef33c11b38994afbfe072683831a75db93040ac&lt;/div&gt;`)[0];\n",
              "                popup_8af377aac880eca0ae175b169536a174.setContent(html_128e231e15f6228fd3345317c7b33230);\n",
              "            \n",
              "        \n",
              "\n",
              "        marker_fb9aee21bd5535cd961963141d40fb0c.bindPopup(popup_8af377aac880eca0ae175b169536a174)\n",
              "        ;\n",
              "\n",
              "        \n",
              "    \n",
              "    \n",
              "            var marker_106022169742781460a4e18d6bf98eba = L.marker(\n",
              "                [34.0522, -118.2437],\n",
              "                {}\n",
              "            ).addTo(map_df432528e992653c18b880a2b683e083);\n",
              "        \n",
              "    \n",
              "        var popup_5cbecc39f74e3a5e32cce42f6e414298 = L.popup({&quot;maxWidth&quot;: &quot;100%&quot;});\n",
              "\n",
              "        \n",
              "            \n",
              "                var html_b56d64f4253ee4d0c05b833d9046b47d = $(`&lt;div id=&quot;html_b56d64f4253ee4d0c05b833d9046b47d&quot; style=&quot;width: 100.0%; height: 100.0%;&quot;&gt;New Location&lt;br&gt;Block Number: 20889015&lt;br&gt;Timestamp: 1728007091&lt;br&gt;Hash: 8b4a7722e744a45d48c43d86d1bace18519a91d9aabc5bb2661136f99490db68&lt;/div&gt;`)[0];\n",
              "                popup_5cbecc39f74e3a5e32cce42f6e414298.setContent(html_b56d64f4253ee4d0c05b833d9046b47d);\n",
              "            \n",
              "        \n",
              "\n",
              "        marker_106022169742781460a4e18d6bf98eba.bindPopup(popup_5cbecc39f74e3a5e32cce42f6e414298)\n",
              "        ;\n",
              "\n",
              "        \n",
              "    \n",
              "&lt;/script&gt;\n",
              "&lt;/html&gt;\" style=\"position:absolute;width:100%;height:100%;left:0;top:0;border:none !important;\" allowfullscreen webkitallowfullscreen mozallowfullscreen></iframe></div></div>"
            ]
          },
          "metadata": {}
        }
      ]
    },
    {
      "cell_type": "code",
      "source": [
        "# prompt: interface para controlar y ver los resultados\n",
        "\n",
        "#@title Blockchain Tax Data Interface\n",
        "\n",
        "tax_data = \"Nueva data\" #@param {type:\"string\"}\n",
        "latitude = 5.071664844985639 #@param {type:\"number\"}\n",
        "longitude = -74.29017731217597 #@param {type:\"number\"}\n",
        "\n",
        "\n",
        "def process_data():\n",
        "  global block_number, upload_datetime\n",
        "  block_number, upload_datetime = upload_data_to_blockchain(tax_data, latitude, longitude)\n",
        "  print(f\"Data uploaded to block number: {block_number}\")\n",
        "  print(f\"Data uploaded at: {upload_datetime}\")\n",
        "  updated_block_info = get_block_info(block_number)\n",
        "  if updated_block_info:\n",
        "      print(f\"Updated block information:\\n{updated_block_info}\")\n",
        "  map_obj = plot_locations_on_map_with_block_data(latitude_previous, longitude_previous, latitude, longitude, previous_block_info, updated_block_info)\n",
        "  display(map_obj)\n",
        "\n",
        "\n",
        "# Button to process data\n",
        "from IPython.display import display, Javascript\n",
        "from google.colab import output\n",
        "\n",
        "button = output.eval_js(\"\"\"\n",
        "  document.querySelector(\"#output-area\").appendChild(document.createElement('button')).textContent = 'Process Data';\n",
        "\"\"\")\n",
        "output.register_callback(\"process_data\", process_data)\n",
        "\n",
        "display(Javascript(\"\"\"\n",
        "  google.colab.output.setIframeHeight(0, true, {maxHeight: 5000});\n",
        "  document.querySelector('button').onclick = () => {\n",
        "    google.colab.kernel.invokeFunction('process_data', [], {});\n",
        "  };\n",
        "\"\"\"))\n"
      ],
      "metadata": {
        "colab": {
          "base_uri": "https://localhost:8080/",
          "height": 37
        },
        "id": "JbU8ADuJ6m22",
        "outputId": "4d54eba0-5453-4fac-ebfe-b6a6802f677f"
      },
      "execution_count": 13,
      "outputs": [
        {
          "output_type": "display_data",
          "data": {
            "text/plain": [
              "<IPython.core.display.Javascript object>"
            ],
            "application/javascript": [
              "\n",
              "  google.colab.output.setIframeHeight(0, true, {maxHeight: 5000});\n",
              "  document.querySelector('button').onclick = () => {\n",
              "    google.colab.kernel.invokeFunction('process_data', [], {});\n",
              "  };\n"
            ]
          },
          "metadata": {}
        }
      ]
    },
    {
      "cell_type": "code",
      "source": [
        "# prompt: crear diccionario de todas las ciudades del mundo y sus respectivas coordenadas\n",
        "\n",
        "# Crear un diccionario para almacenar las ciudades y sus coordenadas\n",
        "world_cities = {\n",
        "    \"Bogota\": (4.7110, -74.0721),\n",
        "    \"Medellin\": (6.2518, -75.5636),\n",
        "    \"Cali\": (3.4372, -76.5225),\n",
        "    \"Barranquilla\": (10.9639, -74.7964),\n",
        "    \"Cartagena\": (10.4233, -75.5275),\n",
        "    \"New York\": (40.7128, -74.0060),\n",
        "    \"Los Angeles\": (34.0522, -118.2437),\n",
        "    \"Chicago\": (41.8781, -87.6298),\n",
        "    \"Houston\": (29.7604, -95.3698),\n",
        "    \"London\": (51.5074, -0.1278),\n",
        "    \"Paris\": (48.8566, 2.3522),\n",
        "    \"Berlin\": (52.5200, 13.4050),\n",
        "    \"Rome\": (41.9028, 12.4964),\n",
        "    \"Madrid\": (40.4168, -3.7038),\n",
        "    \"Tokyo\": (35.6895, 139.6917),\n",
        "    \"Beijing\": (39.9042, 116.4074),\n",
        "    \"Shanghai\": (31.2304, 121.4737),\n",
        "    \"Seoul\": (37.5665, 126.9780),\n",
        "    \"Sydney\": (-33.8688, 151.2093),\n",
        "    \"Melbourne\": (-37.8136, 144.9631),\n",
        "    # Agrega más ciudades y coordenadas aquí\n",
        "}\n",
        "\n",
        "# Puedes acceder a las coordenadas de una ciudad usando su nombre como clave\n",
        "# Ejemplo:\n",
        "bogota_coords = world_cities[\"Bogota\"]\n",
        "print(f\"Las coordenadas de Bogotá son: {bogota_coords}\")\n"
      ],
      "metadata": {
        "colab": {
          "base_uri": "https://localhost:8080/"
        },
        "id": "UgFkyoi66xSC",
        "outputId": "abc31e43-4340-4853-e21e-fb789d9ebd3e"
      },
      "execution_count": 14,
      "outputs": [
        {
          "output_type": "stream",
          "name": "stdout",
          "text": [
            "Las coordenadas de Bogotá son: (4.711, -74.0721)\n"
          ]
        }
      ]
    },
    {
      "cell_type": "code",
      "source": [
        "# prompt: crear variables de las ciudades y crear lista desplegable para elegir y agregar al mapa con su respectiva geolocalizacion\n",
        "\n",
        "#@title Select City and Add to Map\n",
        "\n",
        "selected_city = \"Cartagena\" #@param ['Bogota', 'Medellin', 'Cali', 'Barranquilla', 'Cartagena', 'New York', 'Los Angeles', 'Chicago', 'Houston', 'London', 'Paris', 'Berlin', 'Rome', 'Madrid', 'Tokyo', 'Beijing', 'Shanghai', 'Seoul', 'Sydney', 'Melbourne']\n",
        "\n",
        "def add_city_to_map():\n",
        "  latitude, longitude = world_cities[selected_city]\n",
        "  print(f\"Selected city: {selected_city}\")\n",
        "  print(f\"Latitude: {latitude}, Longitude: {longitude}\")\n",
        "\n",
        "  # Update latitude and longitude values\n",
        "  global latitude_new, longitude_new\n",
        "  latitude_new = latitude\n",
        "  longitude_new = longitude\n",
        "\n",
        "  map_obj = plot_locations_on_map_with_block_data(\n",
        "      latitude_previous, longitude_previous, latitude_new, longitude_new,\n",
        "      previous_block_info, updated_block_info)\n",
        "  display(map_obj)\n",
        "\n",
        "\n",
        "button = output.eval_js(\"\"\"\n",
        "  document.querySelector(\"#output-area\").appendChild(document.createElement('button')).textContent = 'Add City to Map';\n",
        "\"\"\")\n",
        "output.register_callback(\"add_city_to_map\", add_city_to_map)\n",
        "\n",
        "display(Javascript(\"\"\"\n",
        "  google.colab.output.setIframeHeight(0, true, {maxHeight: 5000});\n",
        "  document.querySelector('button').onclick = () => {\n",
        "    google.colab.kernel.invokeFunction('add_city_to_map', [], {});\n",
        "  };\n",
        "\"\"\"))\n"
      ],
      "metadata": {
        "colab": {
          "base_uri": "https://localhost:8080/",
          "height": 885
        },
        "id": "s2VIgd8G8MA7",
        "outputId": "fb7b4149-77ac-4d8d-e58d-1b3eac0eb217"
      },
      "execution_count": 30,
      "outputs": [
        {
          "output_type": "display_data",
          "data": {
            "text/plain": [
              "<IPython.core.display.Javascript object>"
            ],
            "application/javascript": [
              "\n",
              "  google.colab.output.setIframeHeight(0, true, {maxHeight: 5000});\n",
              "  document.querySelector('button').onclick = () => {\n",
              "    google.colab.kernel.invokeFunction('add_city_to_map', [], {});\n",
              "  };\n"
            ]
          },
          "metadata": {}
        },
        {
          "output_type": "stream",
          "name": "stdout",
          "text": [
            "Selected city: Cartagena\n",
            "Latitude: 10.4233, Longitude: -75.5275\n"
          ]
        },
        {
          "output_type": "display_data",
          "data": {
            "text/plain": [
              "<folium.folium.Map at 0x7aec5d7495a0>"
            ],
            "text/html": [
              "<div style=\"width:100%;\"><div style=\"position:relative;width:100%;height:0;padding-bottom:60%;\"><span style=\"color:#565656\">Make this Notebook Trusted to load map: File -> Trust Notebook</span><iframe srcdoc=\"&lt;!DOCTYPE html&gt;\n",
              "&lt;html&gt;\n",
              "&lt;head&gt;\n",
              "    \n",
              "    &lt;meta http-equiv=&quot;content-type&quot; content=&quot;text/html; charset=UTF-8&quot; /&gt;\n",
              "    \n",
              "        &lt;script&gt;\n",
              "            L_NO_TOUCH = false;\n",
              "            L_DISABLE_3D = false;\n",
              "        &lt;/script&gt;\n",
              "    \n",
              "    &lt;style&gt;html, body {width: 100%;height: 100%;margin: 0;padding: 0;}&lt;/style&gt;\n",
              "    &lt;style&gt;#map {position:absolute;top:0;bottom:0;right:0;left:0;}&lt;/style&gt;\n",
              "    &lt;script src=&quot;https://cdn.jsdelivr.net/npm/leaflet@1.9.3/dist/leaflet.js&quot;&gt;&lt;/script&gt;\n",
              "    &lt;script src=&quot;https://code.jquery.com/jquery-3.7.1.min.js&quot;&gt;&lt;/script&gt;\n",
              "    &lt;script src=&quot;https://cdn.jsdelivr.net/npm/bootstrap@5.2.2/dist/js/bootstrap.bundle.min.js&quot;&gt;&lt;/script&gt;\n",
              "    &lt;script src=&quot;https://cdnjs.cloudflare.com/ajax/libs/Leaflet.awesome-markers/2.0.2/leaflet.awesome-markers.js&quot;&gt;&lt;/script&gt;\n",
              "    &lt;link rel=&quot;stylesheet&quot; href=&quot;https://cdn.jsdelivr.net/npm/leaflet@1.9.3/dist/leaflet.css&quot;/&gt;\n",
              "    &lt;link rel=&quot;stylesheet&quot; href=&quot;https://cdn.jsdelivr.net/npm/bootstrap@5.2.2/dist/css/bootstrap.min.css&quot;/&gt;\n",
              "    &lt;link rel=&quot;stylesheet&quot; href=&quot;https://netdna.bootstrapcdn.com/bootstrap/3.0.0/css/bootstrap-glyphicons.css&quot;/&gt;\n",
              "    &lt;link rel=&quot;stylesheet&quot; href=&quot;https://cdn.jsdelivr.net/npm/@fortawesome/fontawesome-free@6.2.0/css/all.min.css&quot;/&gt;\n",
              "    &lt;link rel=&quot;stylesheet&quot; href=&quot;https://cdnjs.cloudflare.com/ajax/libs/Leaflet.awesome-markers/2.0.2/leaflet.awesome-markers.css&quot;/&gt;\n",
              "    &lt;link rel=&quot;stylesheet&quot; href=&quot;https://cdn.jsdelivr.net/gh/python-visualization/folium/folium/templates/leaflet.awesome.rotate.min.css&quot;/&gt;\n",
              "    \n",
              "            &lt;meta name=&quot;viewport&quot; content=&quot;width=device-width,\n",
              "                initial-scale=1.0, maximum-scale=1.0, user-scalable=no&quot; /&gt;\n",
              "            &lt;style&gt;\n",
              "                #map_7f994a1736e97c98fb99aa3f393c7ede {\n",
              "                    position: relative;\n",
              "                    width: 100.0%;\n",
              "                    height: 100.0%;\n",
              "                    left: 0.0%;\n",
              "                    top: 0.0%;\n",
              "                }\n",
              "                .leaflet-container { font-size: 1rem; }\n",
              "            &lt;/style&gt;\n",
              "        \n",
              "&lt;/head&gt;\n",
              "&lt;body&gt;\n",
              "    \n",
              "    \n",
              "            &lt;div class=&quot;folium-map&quot; id=&quot;map_7f994a1736e97c98fb99aa3f393c7ede&quot; &gt;&lt;/div&gt;\n",
              "        \n",
              "&lt;/body&gt;\n",
              "&lt;script&gt;\n",
              "    \n",
              "    \n",
              "            var map_7f994a1736e97c98fb99aa3f393c7ede = L.map(\n",
              "                &quot;map_7f994a1736e97c98fb99aa3f393c7ede&quot;,\n",
              "                {\n",
              "                    center: [37.7749, -122.4194],\n",
              "                    crs: L.CRS.EPSG3857,\n",
              "                    zoom: 10,\n",
              "                    zoomControl: true,\n",
              "                    preferCanvas: false,\n",
              "                }\n",
              "            );\n",
              "\n",
              "            \n",
              "\n",
              "        \n",
              "    \n",
              "            var tile_layer_7480c57f456898cea1b84b63c1899bd9 = L.tileLayer(\n",
              "                &quot;https://tile.openstreetmap.org/{z}/{x}/{y}.png&quot;,\n",
              "                {&quot;attribution&quot;: &quot;\\u0026copy; \\u003ca href=\\&quot;https://www.openstreetmap.org/copyright\\&quot;\\u003eOpenStreetMap\\u003c/a\\u003e contributors&quot;, &quot;detectRetina&quot;: false, &quot;maxNativeZoom&quot;: 19, &quot;maxZoom&quot;: 19, &quot;minZoom&quot;: 0, &quot;noWrap&quot;: false, &quot;opacity&quot;: 1, &quot;subdomains&quot;: &quot;abc&quot;, &quot;tms&quot;: false}\n",
              "            );\n",
              "        \n",
              "    \n",
              "            tile_layer_7480c57f456898cea1b84b63c1899bd9.addTo(map_7f994a1736e97c98fb99aa3f393c7ede);\n",
              "        \n",
              "    \n",
              "            var marker_9b02deca33f86c0d2254ebf1f697a813 = L.marker(\n",
              "                [37.7749, -122.4194],\n",
              "                {}\n",
              "            ).addTo(map_7f994a1736e97c98fb99aa3f393c7ede);\n",
              "        \n",
              "    \n",
              "        var popup_9fa9ba0083495bb3af9b6719d625f1e4 = L.popup({&quot;maxWidth&quot;: &quot;100%&quot;});\n",
              "\n",
              "        \n",
              "            \n",
              "                var html_1ce2df6c58018043d370dc48d99797db = $(`&lt;div id=&quot;html_1ce2df6c58018043d370dc48d99797db&quot; style=&quot;width: 100.0%; height: 100.0%;&quot;&gt;Previous Location&lt;br&gt;Block Number: 20889014&lt;br&gt;Timestamp: 1728007079&lt;br&gt;Hash: 992d241c9027aaa8b286704c8ef33c11b38994afbfe072683831a75db93040ac&lt;/div&gt;`)[0];\n",
              "                popup_9fa9ba0083495bb3af9b6719d625f1e4.setContent(html_1ce2df6c58018043d370dc48d99797db);\n",
              "            \n",
              "        \n",
              "\n",
              "        marker_9b02deca33f86c0d2254ebf1f697a813.bindPopup(popup_9fa9ba0083495bb3af9b6719d625f1e4)\n",
              "        ;\n",
              "\n",
              "        \n",
              "    \n",
              "    \n",
              "            var marker_e2daa187abf53a2fb22945d7907d567f = L.marker(\n",
              "                [10.4233, -75.5275],\n",
              "                {}\n",
              "            ).addTo(map_7f994a1736e97c98fb99aa3f393c7ede);\n",
              "        \n",
              "    \n",
              "        var popup_90db86a85f690765a7bf3bb49113d91b = L.popup({&quot;maxWidth&quot;: &quot;100%&quot;});\n",
              "\n",
              "        \n",
              "            \n",
              "                var html_bb10d427ba67479b090f7ebbf38d47ec = $(`&lt;div id=&quot;html_bb10d427ba67479b090f7ebbf38d47ec&quot; style=&quot;width: 100.0%; height: 100.0%;&quot;&gt;New Location&lt;br&gt;Block Number: 20889015&lt;br&gt;Timestamp: 1728007091&lt;br&gt;Hash: 8b4a7722e744a45d48c43d86d1bace18519a91d9aabc5bb2661136f99490db68&lt;/div&gt;`)[0];\n",
              "                popup_90db86a85f690765a7bf3bb49113d91b.setContent(html_bb10d427ba67479b090f7ebbf38d47ec);\n",
              "            \n",
              "        \n",
              "\n",
              "        marker_e2daa187abf53a2fb22945d7907d567f.bindPopup(popup_90db86a85f690765a7bf3bb49113d91b)\n",
              "        ;\n",
              "\n",
              "        \n",
              "    \n",
              "&lt;/script&gt;\n",
              "&lt;/html&gt;\" style=\"position:absolute;width:100%;height:100%;left:0;top:0;border:none !important;\" allowfullscreen webkitallowfullscreen mozallowfullscreen></iframe></div></div>"
            ]
          },
          "metadata": {}
        }
      ]
    },
    {
      "cell_type": "code",
      "source": [
        "# prompt: convertir los hash a una variable\n",
        "\n",
        "if updated_block_info:\n",
        "  hash_value = updated_block_info['hash']\n",
        "  print(f\"Hash value: {hash_value}\")\n",
        "\n",
        "if previous_block_info:\n",
        "  previous_hash_value = previous_block_info['hash']\n",
        "  print(f\"Previous hash value: {previous_hash_value}\")\n"
      ],
      "metadata": {
        "colab": {
          "base_uri": "https://localhost:8080/"
        },
        "id": "DeJWI_3_76DB",
        "outputId": "ad1f0c25-ad9a-41b6-8b32-07ab344a56a7"
      },
      "execution_count": 31,
      "outputs": [
        {
          "output_type": "stream",
          "name": "stdout",
          "text": [
            "Hash value: 8b4a7722e744a45d48c43d86d1bace18519a91d9aabc5bb2661136f99490db68\n",
            "Previous hash value: 992d241c9027aaa8b286704c8ef33c11b38994afbfe072683831a75db93040ac\n"
          ]
        }
      ]
    },
    {
      "cell_type": "code",
      "source": [
        "# prompt: utilizar el hash en un mapa conceptual\n",
        "\n",
        "from IPython.display import display, HTML\n",
        "\n",
        "if updated_block_info:\n",
        "  hash_value = updated_block_info['hash']\n",
        "\n",
        "  # Create a simple mind map using HTML\n",
        "  mind_map_html = f\"\"\"\n",
        "  <html>\n",
        "  <head>\n",
        "    <title>Blockchain Hash Mind Map</title>\n",
        "  </head>\n",
        "  <body>\n",
        "    <h1>Blockchain Hash Mind Map</h1>\n",
        "    <div style=\"display: flex; justify-content: center;\">\n",
        "      <div style=\"border: 2px solid black; padding: 20px; border-radius: 10px;\">\n",
        "        <h2>Hash: {hash_value}</h2>\n",
        "        <ul>\n",
        "          <li><b>Block Number:</b> {updated_block_info['block_number']}</li>\n",
        "          <li><b>Timestamp:</b> {updated_block_info['timestamp']}</li>\n",
        "          <li><b>Data:</b> {tax_data}</li>\n",
        "          <li><b>Location:</b> ({latitude}, {longitude})</li>\n",
        "        </ul>\n",
        "      </div>\n",
        "    </div>\n",
        "  </body>\n",
        "  </html>\n",
        "  \"\"\"\n",
        "  display(HTML(mind_map_html))\n",
        "else:\n",
        "  print(\"No updated block information available to create a mind map.\")\n"
      ],
      "metadata": {
        "colab": {
          "base_uri": "https://localhost:8080/",
          "height": 243
        },
        "id": "g46cCpGy81Mq",
        "outputId": "a8f2a573-8a09-4c7d-b596-3eea6135b49d"
      },
      "execution_count": 32,
      "outputs": [
        {
          "output_type": "display_data",
          "data": {
            "text/plain": [
              "<IPython.core.display.HTML object>"
            ],
            "text/html": [
              "\n",
              "  <html>\n",
              "  <head>\n",
              "    <title>Blockchain Hash Mind Map</title>\n",
              "  </head>\n",
              "  <body>\n",
              "    <h1>Blockchain Hash Mind Map</h1>\n",
              "    <div style=\"display: flex; justify-content: center;\">\n",
              "      <div style=\"border: 2px solid black; padding: 20px; border-radius: 10px;\">\n",
              "        <h2>Hash: 8b4a7722e744a45d48c43d86d1bace18519a91d9aabc5bb2661136f99490db68</h2>\n",
              "        <ul>\n",
              "          <li><b>Block Number:</b> 20889015</li>\n",
              "          <li><b>Timestamp:</b> 1728007091</li>\n",
              "          <li><b>Data:</b> Impuesto</li>\n",
              "          <li><b>Location:</b> (5.071664844985639, -74.29017731217597)</li>\n",
              "        </ul>\n",
              "      </div>\n",
              "    </div>\n",
              "  </body>\n",
              "  </html>\n",
              "  "
            ]
          },
          "metadata": {}
        }
      ]
    },
    {
      "cell_type": "code",
      "source": [
        "!pip install web3\n",
        "!nohup ganache-cli > ganache.log &"
      ],
      "metadata": {
        "colab": {
          "base_uri": "https://localhost:8080/"
        },
        "id": "auee79CdTb26",
        "outputId": "f964a105-f338-4f8e-a425-f3acd423a905"
      },
      "execution_count": 45,
      "outputs": [
        {
          "output_type": "stream",
          "name": "stdout",
          "text": [
            "Requirement already satisfied: web3 in /usr/local/lib/python3.10/dist-packages (7.3.0)\n",
            "Requirement already satisfied: eth-abi>=5.0.1 in /usr/local/lib/python3.10/dist-packages (from web3) (5.1.0)\n",
            "Requirement already satisfied: eth-account>=0.13.1 in /usr/local/lib/python3.10/dist-packages (from web3) (0.13.4)\n",
            "Requirement already satisfied: eth-hash>=0.5.1 in /usr/local/lib/python3.10/dist-packages (from eth-hash[pycryptodome]>=0.5.1->web3) (0.7.0)\n",
            "Requirement already satisfied: eth-typing>=5.0.0 in /usr/local/lib/python3.10/dist-packages (from web3) (5.0.0)\n",
            "Requirement already satisfied: eth-utils>=5.0.0 in /usr/local/lib/python3.10/dist-packages (from web3) (5.0.0)\n",
            "Requirement already satisfied: hexbytes>=1.2.0 in /usr/local/lib/python3.10/dist-packages (from web3) (1.2.1)\n",
            "Requirement already satisfied: aiohttp>=3.7.4.post0 in /usr/local/lib/python3.10/dist-packages (from web3) (3.10.8)\n",
            "Requirement already satisfied: pydantic>=2.4.0 in /usr/local/lib/python3.10/dist-packages (from web3) (2.9.2)\n",
            "Requirement already satisfied: requests>=2.23.0 in /usr/local/lib/python3.10/dist-packages (from web3) (2.32.3)\n",
            "Requirement already satisfied: typing-extensions>=4.0.1 in /usr/local/lib/python3.10/dist-packages (from web3) (4.12.2)\n",
            "Requirement already satisfied: types-requests>=2.0.0 in /usr/local/lib/python3.10/dist-packages (from web3) (2.32.0.20240914)\n",
            "Requirement already satisfied: websockets>=10.0.0 in /usr/local/lib/python3.10/dist-packages (from web3) (13.1)\n",
            "Requirement already satisfied: pyunormalize>=15.0.0 in /usr/local/lib/python3.10/dist-packages (from web3) (16.0.0)\n",
            "Requirement already satisfied: aiohappyeyeballs>=2.3.0 in /usr/local/lib/python3.10/dist-packages (from aiohttp>=3.7.4.post0->web3) (2.4.3)\n",
            "Requirement already satisfied: aiosignal>=1.1.2 in /usr/local/lib/python3.10/dist-packages (from aiohttp>=3.7.4.post0->web3) (1.3.1)\n",
            "Requirement already satisfied: attrs>=17.3.0 in /usr/local/lib/python3.10/dist-packages (from aiohttp>=3.7.4.post0->web3) (24.2.0)\n",
            "Requirement already satisfied: frozenlist>=1.1.1 in /usr/local/lib/python3.10/dist-packages (from aiohttp>=3.7.4.post0->web3) (1.4.1)\n",
            "Requirement already satisfied: multidict<7.0,>=4.5 in /usr/local/lib/python3.10/dist-packages (from aiohttp>=3.7.4.post0->web3) (6.1.0)\n",
            "Requirement already satisfied: yarl<2.0,>=1.12.0 in /usr/local/lib/python3.10/dist-packages (from aiohttp>=3.7.4.post0->web3) (1.13.1)\n",
            "Requirement already satisfied: async-timeout<5.0,>=4.0 in /usr/local/lib/python3.10/dist-packages (from aiohttp>=3.7.4.post0->web3) (4.0.3)\n",
            "Requirement already satisfied: parsimonious<0.11.0,>=0.10.0 in /usr/local/lib/python3.10/dist-packages (from eth-abi>=5.0.1->web3) (0.10.0)\n",
            "Requirement already satisfied: bitarray>=2.4.0 in /usr/local/lib/python3.10/dist-packages (from eth-account>=0.13.1->web3) (2.9.2)\n",
            "Requirement already satisfied: eth-keyfile<0.9.0,>=0.7.0 in /usr/local/lib/python3.10/dist-packages (from eth-account>=0.13.1->web3) (0.8.1)\n",
            "Requirement already satisfied: eth-keys>=0.4.0 in /usr/local/lib/python3.10/dist-packages (from eth-account>=0.13.1->web3) (0.5.1)\n",
            "Requirement already satisfied: eth-rlp>=2.1.0 in /usr/local/lib/python3.10/dist-packages (from eth-account>=0.13.1->web3) (2.1.0)\n",
            "Requirement already satisfied: rlp>=1.0.0 in /usr/local/lib/python3.10/dist-packages (from eth-account>=0.13.1->web3) (4.0.1)\n",
            "Requirement already satisfied: ckzg>=2.0.0 in /usr/local/lib/python3.10/dist-packages (from eth-account>=0.13.1->web3) (2.0.1)\n",
            "Requirement already satisfied: pycryptodome<4,>=3.6.6 in /usr/local/lib/python3.10/dist-packages (from eth-hash[pycryptodome]>=0.5.1->web3) (3.21.0)\n",
            "Requirement already satisfied: cytoolz>=0.10.1 in /usr/local/lib/python3.10/dist-packages (from eth-utils>=5.0.0->web3) (0.12.3)\n",
            "Requirement already satisfied: annotated-types>=0.6.0 in /usr/local/lib/python3.10/dist-packages (from pydantic>=2.4.0->web3) (0.7.0)\n",
            "Requirement already satisfied: pydantic-core==2.23.4 in /usr/local/lib/python3.10/dist-packages (from pydantic>=2.4.0->web3) (2.23.4)\n",
            "Requirement already satisfied: charset-normalizer<4,>=2 in /usr/local/lib/python3.10/dist-packages (from requests>=2.23.0->web3) (3.3.2)\n",
            "Requirement already satisfied: idna<4,>=2.5 in /usr/local/lib/python3.10/dist-packages (from requests>=2.23.0->web3) (3.10)\n",
            "Requirement already satisfied: urllib3<3,>=1.21.1 in /usr/local/lib/python3.10/dist-packages (from requests>=2.23.0->web3) (2.2.3)\n",
            "Requirement already satisfied: certifi>=2017.4.17 in /usr/local/lib/python3.10/dist-packages (from requests>=2.23.0->web3) (2024.8.30)\n",
            "Requirement already satisfied: toolz>=0.8.0 in /usr/local/lib/python3.10/dist-packages (from cytoolz>=0.10.1->eth-utils>=5.0.0->web3) (0.12.1)\n",
            "Requirement already satisfied: regex>=2022.3.15 in /usr/local/lib/python3.10/dist-packages (from parsimonious<0.11.0,>=0.10.0->eth-abi>=5.0.1->web3) (2024.9.11)\n",
            "nohup: redirecting stderr to stdout\n",
            "nohup: failed to run command 'ganache-cli': No such file or directory\n"
          ]
        }
      ]
    },
    {
      "cell_type": "code",
      "source": [
        "from web3 import Web3\n",
        "\n",
        "# Replace with your Infura project ID or other blockchain node provider URL\n",
        "infura_url = \"https://mainnet.infura.io/v3/383937072a1b4891b67f16d36a3a99b3\"\n",
        "\n",
        "# Initialize Web3 with the provider\n",
        "w3 = Web3(Web3.HTTPProvider(infura_url))\n",
        "\n",
        "# Check if connected to the blockchain\n",
        "if w3.is_connected():\n",
        "  print(\"Connected to blockchain!\")\n",
        "else:\n",
        "  print(\"Failed to connect to blockchain.\")\n",
        "\n",
        "# Get the number of peers\n",
        "peer_count = w3.net.peer_count\n",
        "print(f\"Number of connected peers: {peer_count}\")\n",
        "\n",
        "# Remember that getting a list of all nodes in a blockchain network is often not feasible\n",
        "# due to the decentralized and dynamic nature of the network."
      ],
      "metadata": {
        "colab": {
          "base_uri": "https://localhost:8080/"
        },
        "id": "vzTMTreySX0L",
        "outputId": "377b3d4d-7fad-4f38-a260-7ea0b05aa9c4"
      },
      "execution_count": 49,
      "outputs": [
        {
          "output_type": "stream",
          "name": "stdout",
          "text": [
            "Connected to blockchain!\n",
            "Number of connected peers: 100\n"
          ]
        }
      ]
    },
    {
      "cell_type": "code",
      "source": [
        "# prompt: visualizarlos en graficos en tiempo real y ubicarlo en un mapa actualizable\n",
        "\n",
        "import matplotlib.pyplot as plt\n",
        "import numpy as np\n",
        "from IPython.display import display, clear_output\n",
        "import time\n",
        "\n",
        "\n",
        "def plot_realtime_data(latitude, longitude, block_number):\n",
        "  \"\"\"\n",
        "  Plots the current location and block number on a map and graph in real-time.\n",
        "\n",
        "  Args:\n",
        "    latitude: Latitude of the current location.\n",
        "    longitude: Longitude of the current location.\n",
        "    block_number: Current block number.\n",
        "  \"\"\"\n",
        "  clear_output(wait=True)  # Clear previous output\n",
        "\n",
        "  # Create a map using Folium\n",
        "  map_center = [latitude, longitude]\n",
        "  map_obj = folium.Map(location=map_center, zoom_start=10)\n",
        "  folium.Marker([latitude, longitude], popup=f\"Block: {block_number}\").add_to(map_obj)\n",
        "  display(map_obj)\n",
        "\n",
        "  # Create a simple plot to display block number\n",
        "  plt.figure(figsize=(8, 4))\n",
        "  plt.plot([block_number], [latitude], 'bo-', label='Latitude')\n",
        "  plt.plot([block_number], [longitude], 'ro-', label='Longitude')\n",
        "  plt.xlabel('Block Number')\n",
        "  plt.ylabel('Location (Latitude/Longitude)')\n",
        "  plt.title('Realtime Block Number and Location')\n",
        "  plt.legend()\n",
        "  plt.grid(True)\n",
        "  plt.show()\n",
        "\n",
        "# Example usage (you'll need to call this function periodically with updated data)\n",
        "\n",
        "latitude = 37.7749\n",
        "longitude = -122.4194\n",
        "block_number = 0  # initial block number\n",
        "\n",
        "try:\n",
        "    while True:\n",
        "        plot_realtime_data(latitude, longitude, block_number)\n",
        "        block_number += 1\n",
        "        time.sleep(3)  # Update every 3 seconds\n",
        "\n",
        "except KeyboardInterrupt:\n",
        "    print(\"\\nStopped plotting.\")\n",
        "\n"
      ],
      "metadata": {
        "colab": {
          "base_uri": "https://localhost:8080/",
          "height": 865
        },
        "id": "jegY7e-LSqnN",
        "outputId": "f4bef3c3-6d2b-4f07-b90b-381d9991a3d0"
      },
      "execution_count": 56,
      "outputs": [
        {
          "output_type": "display_data",
          "data": {
            "text/plain": [
              "<folium.folium.Map at 0x7aec54e0e0e0>"
            ],
            "text/html": [
              "<div style=\"width:100%;\"><div style=\"position:relative;width:100%;height:0;padding-bottom:60%;\"><span style=\"color:#565656\">Make this Notebook Trusted to load map: File -> Trust Notebook</span><iframe srcdoc=\"&lt;!DOCTYPE html&gt;\n",
              "&lt;html&gt;\n",
              "&lt;head&gt;\n",
              "    \n",
              "    &lt;meta http-equiv=&quot;content-type&quot; content=&quot;text/html; charset=UTF-8&quot; /&gt;\n",
              "    \n",
              "        &lt;script&gt;\n",
              "            L_NO_TOUCH = false;\n",
              "            L_DISABLE_3D = false;\n",
              "        &lt;/script&gt;\n",
              "    \n",
              "    &lt;style&gt;html, body {width: 100%;height: 100%;margin: 0;padding: 0;}&lt;/style&gt;\n",
              "    &lt;style&gt;#map {position:absolute;top:0;bottom:0;right:0;left:0;}&lt;/style&gt;\n",
              "    &lt;script src=&quot;https://cdn.jsdelivr.net/npm/leaflet@1.9.3/dist/leaflet.js&quot;&gt;&lt;/script&gt;\n",
              "    &lt;script src=&quot;https://code.jquery.com/jquery-3.7.1.min.js&quot;&gt;&lt;/script&gt;\n",
              "    &lt;script src=&quot;https://cdn.jsdelivr.net/npm/bootstrap@5.2.2/dist/js/bootstrap.bundle.min.js&quot;&gt;&lt;/script&gt;\n",
              "    &lt;script src=&quot;https://cdnjs.cloudflare.com/ajax/libs/Leaflet.awesome-markers/2.0.2/leaflet.awesome-markers.js&quot;&gt;&lt;/script&gt;\n",
              "    &lt;link rel=&quot;stylesheet&quot; href=&quot;https://cdn.jsdelivr.net/npm/leaflet@1.9.3/dist/leaflet.css&quot;/&gt;\n",
              "    &lt;link rel=&quot;stylesheet&quot; href=&quot;https://cdn.jsdelivr.net/npm/bootstrap@5.2.2/dist/css/bootstrap.min.css&quot;/&gt;\n",
              "    &lt;link rel=&quot;stylesheet&quot; href=&quot;https://netdna.bootstrapcdn.com/bootstrap/3.0.0/css/bootstrap-glyphicons.css&quot;/&gt;\n",
              "    &lt;link rel=&quot;stylesheet&quot; href=&quot;https://cdn.jsdelivr.net/npm/@fortawesome/fontawesome-free@6.2.0/css/all.min.css&quot;/&gt;\n",
              "    &lt;link rel=&quot;stylesheet&quot; href=&quot;https://cdnjs.cloudflare.com/ajax/libs/Leaflet.awesome-markers/2.0.2/leaflet.awesome-markers.css&quot;/&gt;\n",
              "    &lt;link rel=&quot;stylesheet&quot; href=&quot;https://cdn.jsdelivr.net/gh/python-visualization/folium/folium/templates/leaflet.awesome.rotate.min.css&quot;/&gt;\n",
              "    \n",
              "            &lt;meta name=&quot;viewport&quot; content=&quot;width=device-width,\n",
              "                initial-scale=1.0, maximum-scale=1.0, user-scalable=no&quot; /&gt;\n",
              "            &lt;style&gt;\n",
              "                #map_6f019d21c420ce39a023ded2da34c349 {\n",
              "                    position: relative;\n",
              "                    width: 100.0%;\n",
              "                    height: 100.0%;\n",
              "                    left: 0.0%;\n",
              "                    top: 0.0%;\n",
              "                }\n",
              "                .leaflet-container { font-size: 1rem; }\n",
              "            &lt;/style&gt;\n",
              "        \n",
              "&lt;/head&gt;\n",
              "&lt;body&gt;\n",
              "    \n",
              "    \n",
              "            &lt;div class=&quot;folium-map&quot; id=&quot;map_6f019d21c420ce39a023ded2da34c349&quot; &gt;&lt;/div&gt;\n",
              "        \n",
              "&lt;/body&gt;\n",
              "&lt;script&gt;\n",
              "    \n",
              "    \n",
              "            var map_6f019d21c420ce39a023ded2da34c349 = L.map(\n",
              "                &quot;map_6f019d21c420ce39a023ded2da34c349&quot;,\n",
              "                {\n",
              "                    center: [37.7749, -122.4194],\n",
              "                    crs: L.CRS.EPSG3857,\n",
              "                    zoom: 10,\n",
              "                    zoomControl: true,\n",
              "                    preferCanvas: false,\n",
              "                }\n",
              "            );\n",
              "\n",
              "            \n",
              "\n",
              "        \n",
              "    \n",
              "            var tile_layer_1f5f69f07dcb43907726e1c81f279903 = L.tileLayer(\n",
              "                &quot;https://tile.openstreetmap.org/{z}/{x}/{y}.png&quot;,\n",
              "                {&quot;attribution&quot;: &quot;\\u0026copy; \\u003ca href=\\&quot;https://www.openstreetmap.org/copyright\\&quot;\\u003eOpenStreetMap\\u003c/a\\u003e contributors&quot;, &quot;detectRetina&quot;: false, &quot;maxNativeZoom&quot;: 19, &quot;maxZoom&quot;: 19, &quot;minZoom&quot;: 0, &quot;noWrap&quot;: false, &quot;opacity&quot;: 1, &quot;subdomains&quot;: &quot;abc&quot;, &quot;tms&quot;: false}\n",
              "            );\n",
              "        \n",
              "    \n",
              "            tile_layer_1f5f69f07dcb43907726e1c81f279903.addTo(map_6f019d21c420ce39a023ded2da34c349);\n",
              "        \n",
              "    \n",
              "            var marker_85927037caf3e4dd9e82c01001af1f51 = L.marker(\n",
              "                [37.7749, -122.4194],\n",
              "                {}\n",
              "            ).addTo(map_6f019d21c420ce39a023ded2da34c349);\n",
              "        \n",
              "    \n",
              "        var popup_de2a4bd08682a2b6ae4f5b960dea0d79 = L.popup({&quot;maxWidth&quot;: &quot;100%&quot;});\n",
              "\n",
              "        \n",
              "            \n",
              "                var html_b1f9879cc6974036411fc377d573afda = $(`&lt;div id=&quot;html_b1f9879cc6974036411fc377d573afda&quot; style=&quot;width: 100.0%; height: 100.0%;&quot;&gt;Block: 15&lt;/div&gt;`)[0];\n",
              "                popup_de2a4bd08682a2b6ae4f5b960dea0d79.setContent(html_b1f9879cc6974036411fc377d573afda);\n",
              "            \n",
              "        \n",
              "\n",
              "        marker_85927037caf3e4dd9e82c01001af1f51.bindPopup(popup_de2a4bd08682a2b6ae4f5b960dea0d79)\n",
              "        ;\n",
              "\n",
              "        \n",
              "    \n",
              "&lt;/script&gt;\n",
              "&lt;/html&gt;\" style=\"position:absolute;width:100%;height:100%;left:0;top:0;border:none !important;\" allowfullscreen webkitallowfullscreen mozallowfullscreen></iframe></div></div>"
            ]
          },
          "metadata": {}
        },
        {
          "output_type": "stream",
          "name": "stdout",
          "text": [
            "\n",
            "Stopped plotting.\n"
          ]
        }
      ]
    },
    {
      "cell_type": "code",
      "source": [],
      "metadata": {
        "id": "4_uH-S1BT7sI"
      },
      "execution_count": null,
      "outputs": []
    }
  ]
}